{
 "cells": [
  {
   "cell_type": "markdown",
   "metadata": {},
   "source": [
    "# Rootfinding\n",
    "\n",
    "In this notebook I will do the speed comparisons.\n",
    "\n",
    "We want to find the roots of the following real functions $f_i : \\mathbb{R} \\to \\mathbb{R}$.\n",
    "\n",
    "- $f_1(x) = f_1(x) = 0.5 x^{-0.5} + 0.5 x^{-0.2}$\n",
    "- $f_2(x) = \\log(a+x) - b$ for $(a, b) = 1.5, 1$\n",
    "- $f_3(x) = - U'(a_0 + y_0 - x) + \\beta (1+r) U'((1+r)\\cdot x + y_1) $\n",
    "for $U'(c) = c^{-\\sigma}$ and $(a_0, y_0, y_1, r, \\beta, \\sigma) = (1, 1, 1, 0.03, 0.99, 2)$.\n",
    "\n",
    "- $ f_4(x) = - U'(y_0 + a_0 - x) + \\beta (1+r) \\frac{1}{2} \\bigl( U'(y_L + (1+r) x) + U'(y_H + (1+r) x))\\bigr) $\n",
    "where $U'(c) = c^{-\\sigma}$, $(a_0, y_0, \\bar y, r, \\beta, \\sigma) = (1, 1, 1, 0.03, 0.99, 2)$ and $\\lambda \\in \\{ 0, 0.25, 0.5, 0.75 \\}$.\n",
    "\n",
    "These functions are found in `testfunctions.jl` and in the module `testfunctions.f90`.\n",
    "\n",
    "We are using the methods \n",
    "1. bisection\n",
    "2. newton\n",
    "3. brent (Fortran Code by [Tony Smith](www.econ.yale.edu/smith/)).\n",
    "\n",
    "The corresponding functions can be found in the files `rootfinding.jl` and `rootfinding.f90`.\n",
    "\n",
    "## Description of the program\n",
    "```\n",
    "for i = 1:1000\n",
    "    f_2 > bisect, newton, brent\n",
    "    f_3 > bisect, brent\n",
    "    f_4(λ) > bisect, brent λ = 0.25\n",
    "end\n",
    "```\n",
    "\n"
   ]
  },
  {
   "cell_type": "code",
   "execution_count": 2,
   "metadata": {
    "collapsed": false
   },
   "outputs": [
    {
     "data": {
      "text/plain": [
       "zbrent (generic function with 1 method)"
      ]
     },
     "execution_count": 2,
     "metadata": {},
     "output_type": "execute_result"
    }
   ],
   "source": [
    "include(\"Julia/testfunctions.jl\")\n",
    "include(\"Julia/rootfinding.jl\")"
   ]
  },
  {
   "cell_type": "markdown",
   "metadata": {},
   "source": [
    "The `Julia` version of the test program is provided below."
   ]
  },
  {
   "cell_type": "code",
   "execution_count": 3,
   "metadata": {
    "collapsed": false
   },
   "outputs": [
    {
     "name": "stdout",
     "output_type": "stream",
     "text": [
      "(res2,res2,res4) = ([1.21828,1.21828,1.21828],[1.21828,1.21828,1.21828],[0.529156,0.529156])\n"
     ]
    }
   ],
   "source": [
    "function test(res2, res3, res4, toler, N, verbose)\n",
    "    \n",
    "    ## Julia's task is a bit harder, the starting values vary randomly\n",
    "    xlow2 = (rand(N) .- 0.5)./100 .+ 0.001\n",
    "    xhigh2 = (rand(N) .- 0.5)./100 .+ 5.0\n",
    "    \n",
    "    xlow3 = (rand(N) .- 0.5)./100 .+ 0.01\n",
    "    xhigh3 = (rand(N) .- 0.5)./100 .+ 1.99\n",
    "    \n",
    "    for i = 1:N \n",
    "        x = 2.0\n",
    "        iterations = 40\n",
    "        toler = toler\n",
    "\n",
    "        res2[1] = bisect(f2, xlow2[i], xhigh2[i], mxiter=iterations, toler=toler,verbose=verbose)\n",
    "        res2[2] = newton(f2, f2p, xhigh2[i], mxiter=iterations, toler=toler, verbose=verbose)\n",
    "        res2[3] = zbrent(f2, xlow2[i], xhigh2[i], rtol=toler, ftol=toler, itmax=iterations, verbose=verbose)\n",
    "                \n",
    "        res3[1] = bisect(f3, xlow3[i], xhigh3[i], mxiter=iterations, toler=toler, verbose=verbose)\n",
    "        res3[2] = zbrent(f3, xlow3[i], xhigh3[i], rtol=toler, ftol=toler, itmax=iterations, verbose=verbose)\n",
    "        \n",
    "\n",
    "\n",
    "        res4[1] = bisect(x::Real -> f4(x, 0.25), xlow3[i], xhigh3[i], mxiter=iterations, toler=toler, verbose=verbose)\n",
    "        res4[2] = zbrent(x::Real -> f4(x, 0.25), xlow3[i], xhigh3[i], rtol=toler, ftol=toler, itmax=iterations, verbose=verbose)\n",
    "        \n",
    "        if verbose\n",
    "            mean2 = mean(res2)\n",
    "            mean3 = mean(res3)\n",
    "            mean4 = mean(res4)\n",
    "            print(\"$mean2, $mean3, $mean4, $xlow2, $xhigh2\\n\")\n",
    "        end\n",
    "    end\n",
    "end\n",
    "\n",
    "res2 = zeros(3)\n",
    "res3 = zeros(2)\n",
    "res4 = zeros(2)\n",
    "\n",
    "# warm up\n",
    "test(res2, res3, res4, 1e-8, 100, false)\n",
    "@show res2, res2, res4;"
   ]
  },
  {
   "cell_type": "markdown",
   "metadata": {},
   "source": [
    "I want to call the compiled `Fortran` function from `Julia`. The `test()` function is in the `test_roots.f90` file. I compile it into a shared library `gfortran -shared test_roots.o rootfinding.o testfunctions.o constants.o -o lib_test_roots.dylib`. (The windows analogue would supposedly replace `*.dylib` by `*.so`).\n",
    "\n",
    "I also code of `test_roots.f90` here for convenience.\n",
    "\n",
    "```fortran\n",
    "module test_roots\n",
    "  \n",
    "  use constants\n",
    "  use functions\n",
    "  use rootfinding\n",
    "\n",
    "  implicit none\n",
    "contains\n",
    "  \n",
    "  subroutine test(time, res2, res3, res4, verbose, toler, N)\n",
    "    \n",
    "  use constants\n",
    "  use functions\n",
    "  use rootfinding\n",
    "    \n",
    "  real(ndp) :: num, x = 2.0\n",
    "  real(ndp) :: xlow2, xhigh2, xlow3, xhigh3, toler\n",
    "  integer(i4b) :: i, iterations, N\n",
    "  logical :: verbose ! = .false.\n",
    "  integer :: time_start, time_end, rate\n",
    "  real(ndp) :: time\n",
    "            \n",
    "  real(ndp) :: res2(3), res3(2), res4(2)\n",
    "\n",
    "\n",
    "  call system_clock(COUNT_RATE=rate)\n",
    "  call system_clock(COUNT=time_start)\n",
    "  \n",
    "  do i = 1,N\n",
    "     xlow2 = 0.001\n",
    "     xhigh2 = 5\n",
    "     iterations = 60\n",
    "     !toler = 1d-10\n",
    "\n",
    "     res2(1) = bisect(f2, xlow2, xhigh2, iterations, toler, verbose)\n",
    "     res2(2) = newton(f2, f2p, xhigh2, iterations, toler, verbose)\n",
    "     res2(3) = zbrent(f2, xlow2, xhigh2, toler, toler, iterations, verbose)\n",
    "     if (verbose) then\n",
    "        write(6,\"('f2: 'f15.8)\") sum(res2)/3\n",
    "     endif\n",
    "\n",
    "     xlow3 = 0.1\n",
    "     xhigh3 = 1.99\n",
    "     res3(1) = bisect(f3, xlow3, xhigh3, iterations, toler, verbose)\n",
    "     res3(2) = zbrent(f3, xlow3, xhigh3, toler, toler, iterations, verbose)\n",
    "     if (verbose) then\n",
    "        write(6,\"('f3: 'f15.8)\") sum(res3)/2\n",
    "     endif\n",
    "\n",
    "     res4(1) = bisect(f4, xlow3, xhigh3, iterations, toler, verbose)\n",
    "     res4(2) = zbrent(f4, xlow3, xhigh3, toler, toler, iterations, verbose)\n",
    "     if (verbose) then\n",
    "        write(6,\"('f4: 'f15.8)\") sum(res4)/2\n",
    "     endif\n",
    "  enddo\n",
    "  \n",
    "  call system_clock(COUNT=time_end)\n",
    "  time = time_end - time_start\n",
    "  time = time/rate\n",
    "end subroutine test\n",
    "  \n",
    "end module test_roots\n",
    "```\n",
    "\n",
    "Call the `makefile` to compile the code."
   ]
  },
  {
   "cell_type": "code",
   "execution_count": 4,
   "metadata": {
    "collapsed": false
   },
   "outputs": [
    {
     "data": {
      "text/plain": [
       "test_f90 (generic function with 1 method)"
      ]
     },
     "execution_count": 4,
     "metadata": {},
     "output_type": "execute_result"
    }
   ],
   "source": [
    "function test_f90(res2_f90, res3_f90, res4_f90, time_f90, toler_f90, N_f90, verbose_f90)\n",
    "    ccall((:__test_roots_MOD_test, \"Fortran90/lib_test_roots\"), Void,\n",
    "      (Ptr{Cdouble}, Ptr{Cdouble}, Ptr{Cdouble}, Ptr{Cdouble}, Ptr{Cint}, Ptr{Cdouble}, Ptr{Cint}),\n",
    "      time_f90, res2_f90, res3_f90, res4_f90, verbose_f90, toler_f90, N_f90)\n",
    "    time_f90.x\n",
    "end"
   ]
  },
  {
   "cell_type": "code",
   "execution_count": 5,
   "metadata": {
    "collapsed": false
   },
   "outputs": [
    {
     "name": "stdout",
     "output_type": "stream",
     "text": [
      "res2_f90 = [1.21828,1.21828,1.21828]\n",
      "res3_f90 = [0.532329,0.532329]\n",
      "res4_f90 = [0.545132,0.545132]\n"
     ]
    }
   ],
   "source": [
    "res2_f90 = zeros(3)\n",
    "res3_f90 = zeros(2)\n",
    "res4_f90 = zeros(2)\n",
    "time_f90 = Ref{Cdouble}(0.)\n",
    "\n",
    "toler = 1e-8\n",
    "N = 100\n",
    "verbose = false\n",
    "\n",
    "toler_f90 = Ref{Cdouble}(toler)\n",
    "N_f90 = Ref{Cint}(N)\n",
    "verbose_f90 = Ref{Cint}(verbose)\n",
    "\n",
    "test_f90(res2_f90, res3_f90, res4_f90, time_f90, toler_f90, N_f90, verbose_f90)\n",
    "@show res2_f90;\n",
    "@show res3_f90;\n",
    "@show res4_f90;"
   ]
  },
  {
   "cell_type": "code",
   "execution_count": 6,
   "metadata": {
    "collapsed": false
   },
   "outputs": [],
   "source": [
    "M = 100\n",
    "time_julia = zeros(M)\n",
    "time_fortran = zeros(M)\n",
    "\n",
    "for i = 1:M\n",
    "    time_fortran[i] = test_f90(res2_f90, res3_f90, res4_f90, time_f90, toler_f90, N_f90, verbose_f90)\n",
    "    time_julia[i] = @elapsed test(res2, res3, res4, toler, N, verbose)\n",
    "end\n"
   ]
  },
  {
   "cell_type": "code",
   "execution_count": 7,
   "metadata": {
    "collapsed": false
   },
   "outputs": [
    {
     "name": "stdout",
     "output_type": "stream",
     "text": [
      "(res2,res2_f90) = ([1.21828,1.21828,1.21828],[1.21828,1.21828,1.21828])\n",
      "(res3,res3_f90) = ([0.499854,0.499854],[0.532329,0.532329])\n",
      "(res4,res4_f90) = ([0.529156,0.529156],[0.545132,0.545132])\n"
     ]
    }
   ],
   "source": [
    "@show res2, res2_f90;\n",
    "@show res3, res3_f90;\n",
    "@show res4, res4_f90;"
   ]
  },
  {
   "cell_type": "markdown",
   "metadata": {},
   "source": [
    "!!! It seems that the functions 3 and 4 are different for the two languages. That needs to be checked !!!"
   ]
  },
  {
   "cell_type": "code",
   "execution_count": 8,
   "metadata": {
    "collapsed": false
   },
   "outputs": [],
   "source": [
    "using Plots, PyPlot"
   ]
  },
  {
   "cell_type": "code",
   "execution_count": 9,
   "metadata": {
    "collapsed": false
   },
   "outputs": [
    {
     "name": "stdout",
     "output_type": "stream",
     "text": [
      "[median(time_fortran);median(time_julia)] = [0.008,0.00169501]\n"
     ]
    },
    {
     "data": {
      "text/html": [
       "<img src=\"data:image/png;base64,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\" />"
      ]
     },
     "execution_count": 9,
     "metadata": {},
     "output_type": "execute_result"
    }
   ],
   "source": [
    "pyplot()\n",
    "\n",
    "histogram(time_fortran[2:end], label=\"Fortran\", alpha=0.5)\n",
    "histogram!(time_julia[2:end], label=\"Julia\", alpha=0.5)\n",
    "\n",
    "@show [median(time_fortran);median(time_julia)]\n",
    "plot!([median(time_fortran);median(time_julia)], linetype=:vline, label=\"medians\")"
   ]
  },
  {
   "cell_type": "code",
   "execution_count": null,
   "metadata": {
    "collapsed": false
   },
   "outputs": [],
   "source": []
  },
  {
   "cell_type": "code",
   "execution_count": null,
   "metadata": {
    "collapsed": true
   },
   "outputs": [],
   "source": []
  }
 ],
 "metadata": {
  "kernelspec": {
   "display_name": "Julia 0.5.0",
   "language": "julia",
   "name": "julia-0.5"
  },
  "language_info": {
   "file_extension": ".jl",
   "mimetype": "application/julia",
   "name": "julia",
   "version": "0.5.0"
  }
 },
 "nbformat": 4,
 "nbformat_minor": 0
}
