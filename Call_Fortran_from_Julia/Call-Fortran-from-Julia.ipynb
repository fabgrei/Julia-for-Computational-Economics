{
 "cells": [
  {
   "cell_type": "markdown",
   "metadata": {},
   "source": [
    "## Calling Fortran from Julia\n",
    "\n",
    "## Put the Fortran functions in a module\n",
    "Assume we have the following functions.\n",
    "\n",
    "```fortran\n",
    "module funcs_for_julia\n",
    "  integer, parameter :: dp = kind(1.d0) ! double precision\n",
    "\n",
    "contains\n",
    "\n",
    "!!! The simplest function: take real, return real\n",
    "  double precision function double_x(x)\n",
    "\n",
    "\n",
    "    real(dp) :: x\n",
    "\n",
    "    double_x = 2*x\n",
    "  end function double_x\n",
    "\n",
    "!!! Second simplest function: take two reals, change one of them, return real\n",
    "  double precision function double_x_give_answer(x, answers)\n",
    "\n",
    "    real(dp) :: x\n",
    "    real(dp) :: answers(2)\n",
    "\n",
    "    answers(1) = 42.0\n",
    "    answers(2) = 42.01\n",
    "\n",
    "    double_x_give_answer = 2*x\n",
    "  end function double_x_give_answer\n",
    "\n",
    "!!! A function that takes a function and returns a value\n",
    "  double precision function eval_func(f, x)\n",
    "    real(dp) :: x\n",
    "\n",
    "    interface\n",
    "       double precision function f(y)\n",
    "         integer, parameter :: dp = kind(1.d0) ! double precision\n",
    "         real(dp) :: y\n",
    "       end function f\n",
    "    end interface\n",
    "\n",
    "    eval_func = f(x)\n",
    "  end function eval_func\n",
    "\n",
    "end module funcs_for_julia\n",
    "```\n",
    "\n",
    "Put those functions into a module!\n",
    "\n",
    "## Create a shared library\n",
    "\n",
    "Then we have to compile the code into a shared library. Shared libraries contain compiled code, that can be called from other programs. Depending on your operating system they have specific endings. On a Mac, they are called `xxx.dylib`.\n",
    "\n",
    "In the terminal run\n",
    "\n",
    "```bash\n",
    "gfortran -shared -fPIC funcs-for-julia.f90 -o funcs-for-julia.dylib\n",
    "```\n",
    "\n",
    "This produces a file called `funcs-for-julia.dylib`.\n",
    "\n",
    "## Call the functions from Julia\n",
    "\n",
    "Now we can proceed to call these from `Julia`. We use the function `ccall` which can be used to call `C` and `Fortran` functions from shared libraries.\n",
    "\n",
    "`ccall((:__<module>_MOD_<function>, \"<library>\"), <return-type>, (<tuple of input types>), inputs,...)`\n",
    "\n",
    "Note that the input types need to be a tuple. For one input that is written like `(Cdouble,)` (see the first example)."
   ]
  },
  {
   "cell_type": "markdown",
   "metadata": {},
   "source": [
    "## Example 1: passing a float"
   ]
  },
  {
   "cell_type": "code",
   "execution_count": 1,
   "metadata": {
    "collapsed": false
   },
   "outputs": [
    {
     "name": "stdout",
     "output_type": "stream",
     "text": [
      "result = 4.0\n"
     ]
    },
    {
     "data": {
      "text/plain": [
       "4.0"
      ]
     },
     "execution_count": 1,
     "metadata": {},
     "output_type": "execute_result"
    }
   ],
   "source": [
    "x_fort = Ref{Cdouble}(2.0)\n",
    "\n",
    "result = ccall((:__funcs_for_julia_MOD_double_x, \"funcs-for-julia\"), Cdouble, (Ptr{Cdouble},), x_fort)\n",
    "\n",
    "@show result"
   ]
  },
  {
   "cell_type": "markdown",
   "metadata": {},
   "source": [
    "## Example 2: passing an array\n",
    "\n",
    "Next we want to call the function `double_x_give_answer(x::Float64, answers::Array{Float64})`. It takes an array `answers` and mutates it. Passing arrays is easier than passing numbers."
   ]
  },
  {
   "cell_type": "code",
   "execution_count": 2,
   "metadata": {
    "collapsed": false
   },
   "outputs": [
    {
     "name": "stdout",
     "output_type": "stream",
     "text": [
      "answers = [42.0,42.01]\n"
     ]
    },
    {
     "data": {
      "text/plain": [
       "4.0"
      ]
     },
     "execution_count": 2,
     "metadata": {},
     "output_type": "execute_result"
    }
   ],
   "source": [
    "x_fort = Ref{Cdouble}(2.0) ## like before, create a pointer to the value 2.0\n",
    "answers = zeros(Float64, 2) ## initialize the array\n",
    "\n",
    "result = ccall((:__funcs_for_julia_MOD_double_x_give_answer, \"funcs-for-julia\"),\n",
    "    Cdouble, \n",
    "    (Ptr{Cdouble}, Ptr{Cdouble}),\n",
    "    x_fort, answers)\n",
    "\n",
    "@show answers\n",
    "result"
   ]
  },
  {
   "cell_type": "markdown",
   "metadata": {},
   "source": [
    "## Example 3: passing a function\n",
    "\n",
    "In order to pass a function, we need to create a pointer to this function."
   ]
  },
  {
   "cell_type": "code",
   "execution_count": 3,
   "metadata": {
    "collapsed": false
   },
   "outputs": [
    {
     "data": {
      "text/plain": [
       "1.0"
      ]
     },
     "execution_count": 3,
     "metadata": {},
     "output_type": "execute_result"
    }
   ],
   "source": [
    "x_fort = Ref{Cdouble}(pi/2)\n",
    "sin_fort = cfunction(sin, Float64, (Ref{Float64},))\n",
    "\n",
    "result = ccall((:__funcs_for_julia_MOD_eval_func, \"funcs-for-julia\"),\n",
    "    Cdouble, \n",
    "   (Ptr{Void}, Ptr{Cdouble}),\n",
    "sin_fort, x_fort)\n"
   ]
  }
 ],
 "metadata": {
  "kernelspec": {
   "display_name": "Julia 0.5.0",
   "language": "julia",
   "name": "julia-0.5"
  },
  "language_info": {
   "file_extension": ".jl",
   "mimetype": "application/julia",
   "name": "julia",
   "version": "0.5.0"
  }
 },
 "nbformat": 4,
 "nbformat_minor": 0
}
